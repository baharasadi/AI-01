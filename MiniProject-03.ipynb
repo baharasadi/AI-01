{
 "cells": [
  {
   "cell_type": "markdown",
   "metadata": {},
   "source": [
    "<div align=center>\n",
    "\t\t\n",
    "<p></p>\n",
    "<p></p>\n",
    "<font size=5>\n",
    "In the Name of God\n",
    "<font/>\n",
    "<p></p>\n",
    " <br/>\n",
    "    <br/>\n",
    "    <br/>\n",
    "<font color=#FF7500>\n",
    "Sharif University of Technology - Departmenet of Computer Engineering\n",
    "</font>\n",
    "<p></p>\n",
    "<font color=blue>\n",
    "Artifical Intelligence - Dr. Mohammad Hossein Rohban\n",
    "</font>\n",
    "<br/>\n",
    "<br/>\n",
    "Fall 2021\n",
    "\n",
    "</div>\n",
    "\n",
    "<hr/>\n",
    "\t\t<div align=center>\n",
    "\t\t    <font color=red size=6>\n",
    "\t\t\t    <br />\n",
    "Practical Assignment 3\n",
    "            \t<br/>\n",
    "\t\t\t</font>\n",
    "    <br/>\n",
    "    <br/>\n",
    "<font size=4>\n",
    "\t\t\t<br/><br/>\n",
    "Deadline: Azar 18th\n",
    "                <br/><b>\n",
    "              Cheating is Strongly Prohibited\n",
    "                </b><br/><br/>\n",
    "                <font color=red>\n",
    "Please run all the cells.\n",
    "     </font>\n",
    "</font>\n",
    "                <br/>\n",
    "    </div>"
   ]
  },
  {
   "cell_type": "markdown",
   "metadata": {},
   "source": [
    "# Personal Data"
   ]
  },
  {
   "cell_type": "code",
   "execution_count": 156,
   "metadata": {
    "collectable": true,
    "execution": {
     "iopub.execute_input": "2021-10-01T16:01:36.762477Z",
     "iopub.status.busy": "2021-10-01T16:01:36.762155Z",
     "iopub.status.idle": "2021-10-01T16:01:36.764025Z",
     "shell.execute_reply": "2021-10-01T16:01:36.763754Z"
    }
   },
   "outputs": [],
   "source": [
    "# Set your student number\n",
    "student_number = 98101125\n",
    "Name = 'Bahar'\n",
    "Last_Name = 'Asadi'"
   ]
  },
  {
   "cell_type": "markdown",
   "metadata": {},
   "source": [
    "# Rules\n",
    "- You are not allowed to add or remove cells. You **must use the provided space to write your code**. If you don't follow this rule, **your Practical Assignment won't be graded**. \n",
    "- There is one cell for your custom functions (if you need any) at the beginning of each question. Please note that this jupyter file might be broken down into 3 or 4 jupyter notebooks for easier grading, so you **must write your custom functions in the correct cell**.\n",
    "- By running the cell below, you can see if your jupyter file is accepted or not. This cell will also **generate a python file which you'll have to upload to Quera** (as well as your jupyter file). The python file will later be validated and if the code in both files doesn't match, **your Practical Assignment won't be graded**.\n",
    "- This assignment is due Azar 18th 23:59:59. you can use up to 10 grace days for this assignment and the hard deadline is Azar 28th 23:59:59."
   ]
  },
  {
   "cell_type": "code",
   "execution_count": 157,
   "metadata": {},
   "outputs": [
    {
     "name": "stdout",
     "output_type": "stream",
     "text": [
      "your jupyter file will be graded\n"
     ]
    }
   ],
   "source": [
    "# remember to save your jupyter file before running this script\n",
    "from Helper_codes.validator import *\n",
    "\n",
    "python_code = extract_python(\"./questions.ipynb\")\n",
    "with open(f'python_code_{student_number}.py', 'w') as file:\n",
    "    file.write(python_code)"
   ]
  },
  {
   "cell_type": "markdown",
   "metadata": {},
   "source": [
    "# Q1 (30+5 Points)"
   ]
  },
  {
   "cell_type": "markdown",
   "metadata": {},
   "source": [
    "<font size=4>\n",
    "Author: Pooya Moini\n",
    "\t\t\t<br/>\n",
    "                <font color=red>\n",
    "Please run all the cells.\n",
    "     </font>\n",
    "</font>\n",
    "                <br/>\n",
    "    </div>"
   ]
  },
  {
   "cell_type": "markdown",
   "metadata": {
    "collectable": true
   },
   "source": [
    "# Bayesian Networks"
   ]
  },
  {
   "cell_type": "markdown",
   "metadata": {},
   "source": [
    "In this programming assignment, we will investigate the structure of the binarized MNIST dataset of handwritten digits using Bayesian networks. The dataset contains images of handwritten digits with dimensions $28 \\times 28$ (784) pixels. Consider the Bayesian network in Figure 1 . The network contains two layers of variables. The variables in the bottom layer, $X_{1: 784}$ denote the pixel values of the flattened image. The variables in the top layer, $Z_{1}$ and $Z_{2}$, are referred to as latent variables, because the value of these variables will not be explicitly provided by the data and will have to be inferred."
   ]
  },
  {
   "cell_type": "markdown",
   "metadata": {},
   "source": [
    "![Figure1](./Images/fig1.png)"
   ]
  },
  {
   "cell_type": "markdown",
   "metadata": {},
   "source": [
    "The Bayesian network specifies a joint probability distribution over binary images and latent variables $p\\left(Z_{1}, Z_{2}, X_{1: 784}\\right)$. The model is trained so that the marginal probability of the manifest variables, $p\\left(x_{1: 784}\\right)=\\sum_{z_{1}, z_{2}} p\\left(z_{1}, z_{2}, x_{1: 784}\\right)$ is high on images that look like digits, and low for other images. \n",
    "\n",
    "For this programming assignment, we provide a pretrained model trained_mnist_model. The starter code loads this model and provides functions to directly access the conditional probability tables. Further, we simplify the problem by discretizing the latent and manifest variables such that $\\operatorname{Val}\\left(Z_{1}\\right)=\\operatorname{Val}\\left(Z_{2}\\right)=\\{-3,-2.75, \\ldots, 2.75,3\\}$ and $\\operatorname{Val}\\left(X_{j}\\right)=\\{0,1\\}$, i.e., the image is binary."
   ]
  },
  {
   "cell_type": "markdown",
   "metadata": {},
   "source": [
    "### 1. \n",
    "How many values can the random vector $X_{1: 784}$ take, i.e., how many different $28 \\times 28$ binary images are there?\n",
    "\n",
    "<font color=blue>\n",
    "    * The random vector $X_{1: 784}$ has $2^{784} = 1.02 * 10^{236}$ possible values.\n",
    "</font>\n",
    "\n",
    "How many parameters would you need to specify an arbitrary probability distribution over all possible $28 \\times 28$ binary images? (5 points)\n",
    "\n",
    "<font color=blue>\n",
    "    * We would need $2^{784} - 1$ paramaters to specify an arbitrary probability distribution over the images.\n",
    "</font>"
   ]
  },
  {
   "cell_type": "code",
   "execution_count": 3,
   "metadata": {
    "collectable": true
   },
   "outputs": [],
   "source": [
    "# Write here"
   ]
  },
  {
   "cell_type": "code",
   "execution_count": 4,
   "metadata": {
    "collectable": true
   },
   "outputs": [],
   "source": [
    "# extra space"
   ]
  },
  {
   "cell_type": "markdown",
   "metadata": {},
   "source": [
    "Run below codes to load the network and its functions."
   ]
  },
  {
   "cell_type": "code",
   "execution_count": 113,
   "metadata": {},
   "outputs": [],
   "source": [
    "import numpy as np\n",
    "import matplotlib.pyplot as plt\n",
    "import pickle as pkl\n",
    "from scipy.io import loadmat\n",
    "\n",
    "\n",
    "NUM_PIXELS = 28*28"
   ]
  },
  {
   "cell_type": "code",
   "execution_count": 114,
   "metadata": {},
   "outputs": [],
   "source": [
    "def get_p_z1(z1_val):\n",
    "    '''\n",
    "    Helper. Computes the prior probability for variable z1 to take value z1_val.\n",
    "    P(Z1=z1_val)\n",
    "    '''\n",
    "\n",
    "    return bayes_net['prior_z1'][z1_val]\n",
    "\n",
    "\n",
    "def get_p_z2(z2_val):\n",
    "    '''\n",
    "    Helper. Computes the prior probability for variable z2 to take value z2_val.\n",
    "    P(Z2=z2_val)\n",
    "    '''\n",
    "\n",
    "    return bayes_net['prior_z2'][z2_val]\n"
   ]
  },
  {
   "cell_type": "code",
   "execution_count": 115,
   "metadata": {},
   "outputs": [],
   "source": [
    "def get_p_xk_cond_z1_z2(z1_val, z2_val, k):\n",
    "    '''\n",
    "    Helper. Computes the conditional probability that variable xk assumes value 1\n",
    "    given that z1 assumes value z1_val and z2 assumes value z2_val\n",
    "    P(Xk = 1 | Z1=z1_val , Z2=z2_val)\n",
    "    '''\n",
    "\n",
    "    return bayes_net['cond_likelihood'][(z1_val, z2_val)][0, k-1]\n",
    "\n",
    "\n",
    "def get_p_x_cond_z1_z2(z1_val, z2_val):\n",
    "    '''\n",
    "    Computes the conditional probability of the entire vector x for x = 1,\n",
    "    given that z1 assumes value z1_val and z2 assumes value z2_val\n",
    "    '''\n",
    "    pk = np.zeros(NUM_PIXELS)\n",
    "    for i in range(NUM_PIXELS):\n",
    "        pk[i] = get_p_xk_cond_z1_z2(z1_val, z2_val, i+1)\n",
    "    return pk"
   ]
  },
  {
   "cell_type": "code",
   "execution_count": 116,
   "metadata": {},
   "outputs": [],
   "source": [
    "def load_model(model_file):\n",
    "    '''\n",
    "    Loads a default Bayesian network with latent variables (in this case, a\n",
    "    variational autoencoder)\n",
    "    '''\n",
    "\n",
    "    with open('Helper_codes/trained_mnist_model', 'rb') as infile:\n",
    "        cpts = pkl.load(infile, encoding='bytes')\n",
    "\n",
    "    model = {}\n",
    "    model['prior_z1'] = cpts[0]\n",
    "    model['prior_z2'] = cpts[1]\n",
    "    model['cond_likelihood'] = cpts[2]\n",
    "\n",
    "    return model"
   ]
  },
  {
   "cell_type": "code",
   "execution_count": 117,
   "metadata": {},
   "outputs": [],
   "source": [
    "global disc_z1, disc_z2\n",
    "n_disc_z = 25\n",
    "disc_z1 = np.linspace(-3, 3, n_disc_z)\n",
    "disc_z2 = np.linspace(-3, 3, n_disc_z)\n",
    "\n",
    "global bayes_net\n",
    "bayes_net = load_model('Helper_codes/trained_mnist_model')"
   ]
  },
  {
   "cell_type": "markdown",
   "metadata": {},
   "source": [
    "### 2.\n",
    "Produce 5 samples from the joint probability distribution $\\left(z_{1}, z_{2}, x_{1: 784}\\right) \\sim p\\left(Z_{1}, Z_{2}, X_{1: 784}\\right)$, and plot the corresponding images (values of the pixel variables). (7 points)"
   ]
  },
  {
   "cell_type": "code",
   "execution_count": 135,
   "metadata": {
    "collectable": true
   },
   "outputs": [
    {
     "data": {
      "image/png": "[encoded data removed]",
      "text/plain": [
       "<Figure size 432x288 with 1 Axes>"
      ]
     },
     "metadata": {
      "needs_background": "light"
     },
     "output_type": "display_data"
    },
    {
     "data": {
      "image/png": "[encoded data removed]",
      "text/plain": [
       "<Figure size 432x288 with 1 Axes>"
      ]
     },
     "metadata": {
      "needs_background": "light"
     },
     "output_type": "display_data"
    },
    {
     "data": {
      "image/png": "[encoded data removed]",
      "text/plain": [
       "<Figure size 432x288 with 1 Axes>"
      ]
     },
     "metadata": {
      "needs_background": "light"
     },
     "output_type": "display_data"
    },
    {
     "data": {
      "image/png": "[encoded data removed]",
      "text/plain": [
       "<Figure size 432x288 with 1 Axes>"
      ]
     },
     "metadata": {
      "needs_background": "light"
     },
     "output_type": "display_data"
    },
    {
     "data": {
      "image/png": "[encoded data removed]",
      "text/plain": [
       "<Figure size 432x288 with 1 Axes>"
      ]
     },
     "metadata": {
      "needs_background": "light"
     },
     "output_type": "display_data"
    }
   ],
   "source": [
    "# write here\n",
    "def making_five_samples():\n",
    "    '''\n",
    "    Plots the pixel variables sampled from the joint distribution as 28 x 28\n",
    "    images.\n",
    "    '''\n",
    "    plt.figure()\n",
    "    for i in range(5):        \n",
    "        '''\n",
    "        Sampling from the joint probability distribution specified by the model,\n",
    "        and returning the sampled values of all the pixel variables (X vector).\n",
    "        '''\n",
    "        z1_distribution = []\n",
    "        z2_distribution = []\n",
    "        for z_val in disc_z1:\n",
    "            z1_distribution.append(get_p_z1(z_val))\n",
    "        for z_val in disc_z2:\n",
    "            z2_distribution.append(get_p_z2(z_val))\n",
    "    \n",
    "        z1_sample = np.random.choice(disc_z1, p=z1_distribution)\n",
    "        z2_sample = np.random.choice(disc_z2, p=z2_distribution)\n",
    "        pixel_distribution = get_p_x_cond_z1_z2(z1_sample, z2_sample)\n",
    "        created_sample = []\n",
    "        for pix_prob in pixel_distribution:\n",
    "            created_sample.append(np.random.choice([1, 0], p=[pix_prob, 1.0-pix_prob]))\n",
    "        #plot samples\n",
    "        plt.imshow(np.array(created_sample).reshape(28, 28), cmap='pink')\n",
    "        plt.title('Sample: ' + str(i+1))\n",
    "        plt.tight_layout()\n",
    "        plt.show()\n",
    "    plt.close()\n",
    "    return\n",
    "making_five_samples()"
   ]
  },
  {
   "cell_type": "code",
   "execution_count": 133,
   "metadata": {
    "collectable": true
   },
   "outputs": [],
   "source": [
    "# extra space"
   ]
  },
  {
   "cell_type": "markdown",
   "metadata": {},
   "source": [
    "### 3.\n",
    "\n",
    "For each possible value of\n",
    "$$\n",
    "\\left(\\bar{z}_{1}, \\bar{z}_{2}\\right) \\in\\{-3,-2.75, \\ldots, 2.75,3\\} \\times\\{-3,-2.75, \\ldots, 2.75,3\\}\n",
    "$$\n",
    "compute the conditional expectation $E\\left[X_{1: 784} \\mid Z_{1}, Z_{2}=\\left(\\bar{z}_{1}, \\bar{z}_{2}\\right)\\right] .$ This is the expected image corresponding to each possible value of the latent variables $Z_{1}, Z_{2} .$ Plot the images on on a $2 \\mathrm{D}$ grid where the grid axes correspond to $Z_{1}$ and $Z_{2}$ respectively. What is the intuitive role of the $Z_{1}, Z_{2}$ variables in this model? (8 points)\n",
    "\n",
    "<font color=blue>\n",
    "    * The intuitive role for Z1 (x-axis) appears to indicate how circular the value is (from\n",
    "    0 to 7 and from 3 to black). Z2 on the other hand is more difficult to tell intuitively,\n",
    "    though it appears to determine the horizontal width/lines.\n",
    "    </font>"
   ]
  },
  {
   "cell_type": "code",
   "execution_count": 140,
   "metadata": {
    "collectable": true
   },
   "outputs": [
    {
     "data": {
      "image/png": "[encoded data removed]",
      "text/plain": [
       "<Figure size 432x288 with 1 Axes>"
      ]
     },
     "metadata": {
      "needs_background": "light"
     },
     "output_type": "display_data"
    }
   ],
   "source": [
    "# write here\n",
    "def compt_cond_ex_z1_z2():\n",
    "    '''\n",
    "    Plots the expected images for each latent configuration on a 2D grid.\n",
    "    '''\n",
    "    canvas = np.empty((28*len(disc_z1), 28*len(disc_z2)))\n",
    "    \n",
    "    for i, z1_val in enumerate(disc_z1):\n",
    "        for j, z2_val in enumerate(disc_z2):\n",
    "            canvas[(len(disc_z1)-i-1)*28:(len(disc_z2)-i)*28, (j)*28:(j+1)*28] = get_p_x_cond_z1_z2(z1_val, z2_val).reshape(28, 28)\n",
    "    plt.figure()\n",
    "    plt.imshow(canvas, extent = [-3, 3, 3, -3], cmap='pink')\n",
    "    plt.tight_layout()\n",
    "    plt.show()\n",
    "    plt.close()\n",
    "    return\n",
    "compt_cond_ex_z1_z2()"
   ]
  },
  {
   "cell_type": "code",
   "execution_count": 121,
   "metadata": {
    "collectable": true
   },
   "outputs": [],
   "source": [
    "# extra space"
   ]
  },
  {
   "cell_type": "code",
   "execution_count": 122,
   "metadata": {},
   "outputs": [],
   "source": [
    "mat = loadmat('Helper_codes/testval.mat')\n",
    "val_data = mat['val_x']\n",
    "test_data = mat['test_x']"
   ]
  },
  {
   "cell_type": "markdown",
   "metadata": {},
   "source": [
    "### 4.\n",
    "You are given a validation and a test dataset. In the test dataset, some images are \"real\" handwritten digits, and some are anomalous (corrupted images). We would like to use our Bayesian network to distinguish real images from the anomalous ones. Intuitively, our Bayesian network should assign low probability to corrupted images and high probability to the real ones, and we can use this for classification. To do this, we first compute the average marginal log-likelihood,\n",
    "$$\n",
    "\\log p\\left(x_{1: 784}\\right)=\\log \\sum_{z_{1}} \\sum_{z_{2}} p\\left(z_{1}, z_{2}, x_{1: 784}\\right)\n",
    "$$\n",
    "on the validation dataset, and the standard deviation (again, standard deviation over the validation set). Consider a simple prediction rule where images with marginal log-likelihood, $\\log p\\left(x_{1: 784}\\right)$, outside three standard deviations of the average marginal log-likelihood are classified as corrupted. Classify images in the test set as corrupted or real using this rule. Then plot a histogram of the marginal log-likelihood for the images classified as \"real\". Plot a separate histogram of the marginal log-likelihood for the images classified as \"corrupted\". (15 points)"
   ]
  },
  {
   "cell_type": "code",
   "execution_count": 123,
   "metadata": {
    "collectable": true
   },
   "outputs": [],
   "source": [
    "# write here\n",
    "def plot_histogram(data, title = 'histogram', ylabel = 'frequency'):\n",
    "    plt.figure() \n",
    "    plt.hist(data)  \n",
    "    plt.ylabel('frequency') \n",
    "    plt.title(title) \n",
    "    plt.show() \n",
    "\n",
    "def get_network_conditionals():\n",
    "    '''\n",
    "    returns P(z1, z2), P(x = 1 | z_1, z_2), P(x = 0 | z_1, z_2)\n",
    "    '''\n",
    "    zs = len(disc_z1) * len(disc_z2)\n",
    "    xk_conditional = np.zeros((2, zs, NUM_PIXELS))  # size = 2x625x784\n",
    "    z1_z2_joint = np.zeros(zs)  # size = 625\n",
    "    for i, z1_val in enumerate(disc_z1):\n",
    "        for j, z2_val in enumerate(disc_z2):\n",
    "            index = i * len(disc_z2) + j\n",
    "            z1_z2_joint[index] = get_p_z1(z1_val) * get_p_z2(z2_val) # P(z1, z2)\n",
    "            xk_conditional[1, index] = get_p_x_cond_z1_z2(z1_val, z2_val) # P(x = 1 | z_1, z_2)\n",
    "            xk_conditional[0, index] = 1 - xk_conditional[1, index] # P(x = 0 | z_1, z_2)\n",
    "\n",
    "    return z1_z2_joint, xk_conditional[0], xk_conditional[1]"
   ]
  },
  {
   "cell_type": "code",
   "execution_count": 144,
   "metadata": {
    "collectable": true
   },
   "outputs": [],
   "source": [
    "# extra space\n",
    "def compute_log_likelikehoods(data, log_x0, log_x1, log_z1_z2):\n",
    "    '''\n",
    "    Computes the log likelihood for all samples in data using the given distributions.\n",
    "    '''\n",
    "    log_likelihood = []\n",
    "    for sample in data:\n",
    "        log_xk_sample = np.where(sample == 1, log_x1, log_x0)\n",
    "        log_x_sample = np.sum(log_xk_sample, axis=1)\n",
    "        inner_sum = log_x_sample + log_z1_z2\n",
    "        inner_max = np.max(inner_sum)\n",
    "        log_likelihood.append(inner_max + np.log(np.sum(np.exp(inner_sum - inner_max))))\n",
    "    return np.array(log_likelihood)"
   ]
  },
  {
   "cell_type": "code",
   "execution_count": 145,
   "metadata": {
    "collectable": true
   },
   "outputs": [
    {
     "data": {
      "image/png": "[encoded data removed]",
      "text/plain": [
       "<Figure size 432x288 with 1 Axes>"
      ]
     },
     "metadata": {
      "needs_background": "light"
     },
     "output_type": "display_data"
    },
    {
     "data": {
      "image/png": "[encoded data removed]",
      "text/plain": [
       "<Figure size 432x288 with 1 Axes>"
      ]
     },
     "metadata": {
      "needs_background": "light"
     },
     "output_type": "display_data"
    }
   ],
   "source": [
    "# extra space\n",
    "def distinguish_real_corrupted():\n",
    "    '''\n",
    "    Loads the data and plots the histograms.\n",
    "    '''\n",
    "    z1_z2_joint, xk0_conditional, xk1_conditional = get_network_conditionals()\n",
    "\n",
    "    # Use exp-log-sum trick.\n",
    "    log_xk0_conditional = np.log(xk0_conditional)\n",
    "    log_xk1_conditional = np.log(xk1_conditional)\n",
    "    log_z1_z2_joint = np.log(z1_z2_joint)\n",
    "\n",
    "    validation_log_likelihood = compute_log_likelikehoods(val_data, log_xk0_conditional, log_xk1_conditional, log_z1_z2_joint)\n",
    "\n",
    "    val_mean = np.mean(validation_log_likelihood)\n",
    "    val_stddev = np.std(validation_log_likelihood)\n",
    "\n",
    "    test_log_likelihood = compute_log_likelikehoods(test_data, log_xk0_conditional, log_xk1_conditional, log_z1_z2_joint)\n",
    "\n",
    "    real_image_validator = np.abs(test_log_likelihood - val_mean) <= (3 * val_stddev)\n",
    "    real_marginal_log_likelihood = test_log_likelihood[real_image_validator]\n",
    "    corrupt_marginal_log_likelihood = test_log_likelihood[np.logical_not(real_image_validator)]\n",
    "\n",
    "    plot_histogram(real_marginal_log_likelihood, title='Histogram of marginal log-likelihood for real data')\n",
    "    plot_histogram(corrupt_marginal_log_likelihood, title='Histogram of marginal log-likelihood for corrupted data')\n",
    "    return\n",
    "distinguish_real_corrupted()"
   ]
  },
  {
   "cell_type": "markdown",
   "metadata": {},
   "source": [
    "---"
   ]
  },
  {
   "cell_type": "markdown",
   "metadata": {},
   "source": [
    "# Q2 (40 Points)"
   ]
  },
  {
   "cell_type": "markdown",
   "metadata": {},
   "source": [
    "<font size=4>\n",
    "Author: Mohammad Mahdi Asmae\n",
    "\t\t\t<br/>\n",
    "                <font color=red>\n",
    "Please run all the cells.\n",
    "     </font>\n",
    "</font>\n",
    "                <br/>\n",
    "    </div>"
   ]
  },
  {
   "cell_type": "markdown",
   "metadata": {
    "collectable": true
   },
   "source": [
    "# Sampling in Bayesian Network"
   ]
  },
  {
   "cell_type": "markdown",
   "metadata": {},
   "source": [
    "In this assignment, we will implement diffrent methods of sampling and try to compare the methods by varying queries and number of samples. In the next section you will implement Bayesian Network as a Python class with these methods:\n",
    "\n",
    "* CPT: returns conditional probability table of nodes\n",
    "* PMF: returns probability mass function of given query\n",
    "* Sampling: implementation of different sampling methods\n",
    "    \n",
    "We will use following BN in this problem."
   ]
  },
  {
   "cell_type": "markdown",
   "metadata": {},
   "source": [
    "<img src=\"Images/BN.png\" width=1400 height=1200 />"
   ]
  },
  {
   "cell_type": "code",
   "execution_count": 2,
   "metadata": {
    "collectable": true
   },
   "outputs": [],
   "source": [
    "import numpy as np\n",
    "import random\n",
    "from matplotlib import pyplot as plt\n",
    "import copy\n",
    "############################################################\n",
    "# import necessary packages in this cell                   #\n",
    "# please set a random seed to get the same results in      #\n",
    "# different runs (1 Points)                                #\n",
    "############################################################"
   ]
  },
  {
   "cell_type": "code",
   "execution_count": 3,
   "metadata": {
    "collectable": true
   },
   "outputs": [],
   "source": [
    "# extra space"
   ]
  },
  {
   "cell_type": "code",
   "execution_count": 4,
   "metadata": {
    "collectable": true
   },
   "outputs": [],
   "source": [
    "# extra space"
   ]
  },
  {
   "cell_type": "code",
   "execution_count": 103,
   "metadata": {
    "collectable": true
   },
   "outputs": [],
   "source": [
    "class BN(object):\n",
    "    \"\"\"Bayesian network containing only boolean-variable nodes.\"\"\"\n",
    "\n",
    "    def __init__(self, node_sequence):\n",
    "        \"\"\"\n",
    "        Nodes are in topological order\n",
    "        node_sequence: an iretable object which contains elements in form of (variable name, parents name, cpt) that represents\n",
    "        each node.\n",
    "        \"\"\"\n",
    "        self.nodes = []\n",
    "        self.variables = []\n",
    "        node_sequence = node_sequence\n",
    "        for alone_node in node_sequence:\n",
    "            node = Node(alone_node[0], alone_node[1], alone_node[2])\n",
    "            self.nodes.append(node)\n",
    "            self.variables.append(node.variable)\n",
    "            for parent in node.parents:\n",
    "                self.get_node(parent).children.append(node)\n",
    "\n",
    "    def get_node(self, var):\n",
    "        for node in self.nodes:\n",
    "            if node.variable == var:\n",
    "                return node\n",
    "    \n",
    "    def domain(self):\n",
    "        \"\"\"Return the domain of var\"\"\"\n",
    "        return [True, False]\n",
    "    \n",
    "    def cpt(self, var):\n",
    "        node = self.get_node(var)\n",
    "        return node.cpt\n",
    "    \n",
    "    def extend(self, s, var, val):\n",
    "        \"\"\"Copy dict s and extend it by setting var to val; return copy.\"\"\"\n",
    "        return {**s, var: val}\n",
    "\n",
    "    def enumeration_ask(self, X_value, evidence):\n",
    "        \"\"\"The function \"pmf\" is equal to \"enumeration_ask\" function\n",
    "        This function gets a variable and its value as query and a list of evidences and returns probability mass function P(Q=q|E=e)\n",
    "        Parameters\n",
    "        ----------\n",
    "        query:\n",
    "            a variable and its value\n",
    "            e.g. ('a', 1)\n",
    "        evidence:\n",
    "            dictionary of variables and their values\n",
    "            e.g. {'B': False, 'C': True}\n",
    "        \n",
    "        Returns\n",
    "        -------\n",
    "        PMF: float\n",
    "            P(query|evidence)\n",
    "        \"\"\"\n",
    "            ############################################################\n",
    "            # (3 Points)                                               #\n",
    "            ############################################################\n",
    "        pmf = {}\n",
    "        X = X_value[0]\n",
    "        value = X_value[1]\n",
    "        for xi in self.domain():\n",
    "            pmf[xi] = self.enumerate_all(self.variables, self.extend(evidence, X, xi))\n",
    "        # normalizing\n",
    "        total = sum(pmf.values())\n",
    "        if not np.isclose(total, 1.0):\n",
    "            for val in pmf:\n",
    "                pmf[val] /= total\n",
    "        return pmf[value]\n",
    "\n",
    "    def enumerate_all(self, variables, evidence):\n",
    "        \"\"\"\n",
    "        Return the sum of those entries in P(variables | e{others})\n",
    "        consistent with evidence. Parents must precede children in variables.\n",
    "        \"\"\"\n",
    "        if not variables:\n",
    "            return 1.0\n",
    "        Y, rest = variables[0], variables[1:]\n",
    "        Y_node = self.get_node(Y)\n",
    "        if Y in evidence:\n",
    "            return Y_node.prob(evidence[Y], evidence) * self.enumerate_all(rest, evidence)\n",
    "        else:\n",
    "            return sum(Y_node.prob(y, evidence) * self.enumerate_all(rest, self.extend(evidence, Y, y))\n",
    "                       for y in self.domain())\n",
    "    \n",
    "    def is_comp_ev(self, event, evidence):\n",
    "        for ev in evidence.keys():\n",
    "            if evidence[ev] != event[ev]:\n",
    "                return False\n",
    "        return True\n",
    "    def is_comp_que(self, event, query):\n",
    "        if query[1] != event[query[0]]:\n",
    "            return False\n",
    "        return True\n",
    "    \n",
    "    def weighted_sample(self, evidence):\n",
    "        \"\"\"\n",
    "        Sample an event from bn that's consistent with the evidence e;\n",
    "        return the event and its weight, the likelihood that the event\n",
    "        accords to the evidence.\n",
    "        \"\"\"\n",
    "        w = 1\n",
    "        event = dict(evidence)\n",
    "        for node in self.nodes:\n",
    "            Xi = node.variable\n",
    "            if Xi in evidence:\n",
    "                w *= node.prob(evidence[Xi], event)\n",
    "            else:\n",
    "                event[Xi] = node.sample(event)\n",
    "        return event, w\n",
    "\n",
    "    def sampling(self, query, evidence, sampling_method, num_iter, num_burnin = 1e2) -> float:\n",
    "        ############################################################\n",
    "        # (27 Points)                                              #\n",
    "        #     Prior sampling (6 points)                            #\n",
    "        #     Rejection sampling (6 points)                        #\n",
    "        #     Likelihood weighting (7 points)                      #\n",
    "        #     Gibbs sampling (8 points)                            #\n",
    "        ############################################################\n",
    "        #Your code\n",
    "        # query: list\n",
    "        # list of variables an their values\n",
    "        # e.g. [('a', 0), ('e', 1)]\n",
    "        # evidence: dictionary\n",
    "        # dictionary of observed variables and their values\n",
    "        # e.g. {'b': 0, 'c': 1}\n",
    "        if sampling_method == 'Prior':\n",
    "            cnt_evidence = 0\n",
    "            cnt_evidence_query = 0\n",
    "            for i in range(num_iter):\n",
    "                event = {}\n",
    "                for node in self.nodes:\n",
    "                    event[node.variable] = node.sample(event)\n",
    "                if self.is_comp_ev(event, evidence):\n",
    "                    cnt_evidence += 1\n",
    "                    if self.is_comp_que(event, query):\n",
    "                        cnt_evidence_query += 1\n",
    "            if cnt_evidence == 0:\n",
    "                    return 0\n",
    "            return cnt_evidence_query/cnt_evidence\n",
    "        \n",
    "        elif sampling_method == 'Rejection':\n",
    "            cnt_evidence_query = 0\n",
    "            iter_counter = 0\n",
    "            while iter_counter < num_iter:\n",
    "                event = {}\n",
    "                for node in self.nodes:\n",
    "                    event[node.variable] = node.sample(event)\n",
    "                if self.is_comp_ev(event, evidence):\n",
    "                    iter_counter += 1\n",
    "                    if self.is_comp_que(event, query):\n",
    "                        cnt_evidence_query += 1\n",
    "            return cnt_evidence_query/iter_counter\n",
    "        \n",
    "        elif sampling_method == 'Likelihood Weighting':\n",
    "            cnt_evidence_query = 0\n",
    "            w_sum = 0\n",
    "            for i in range(num_iter):\n",
    "                event, w =self.weighted_sample(evidence)\n",
    "                if self.is_comp_que(event, query):\n",
    "                    cnt_evidence_query += w\n",
    "                w_sum += w\n",
    "            return cnt_evidence_query/w_sum\n",
    "        \n",
    "        elif sampling_method == 'Gibbs':\n",
    "            num_burnin_cnt = 0\n",
    "            cnt_evidence_query = 0\n",
    "            event = dict(evidence)\n",
    "            not_in_evidence = set(self.variables).difference(set(evidence.keys()))\n",
    "            event.update((key, np.random.choice(self.domain())) for key in not_in_evidence)\n",
    "            for i in range(int(num_iter + num_burnin)):\n",
    "                for var in not_in_evidence:\n",
    "                    event.pop(var)\n",
    "                    que = self.enumeration_ask((var, True), event)\n",
    "                    event[var] = np.random.choice((True, False), p = [que, 1 - que])\n",
    "                num_burnin_cnt += 1\n",
    "                if num_burnin_cnt >= num_burnin and self.is_comp_que(event, query):\n",
    "                    cnt_evidence_query += 1\n",
    "            return cnt_evidence_query/num_iter\n",
    "        else:\n",
    "            return \"Not Valid Method For Sampling\"\n",
    "        \"\"\"\n",
    "        Parameters\n",
    "        ----------\n",
    "        query: list\n",
    "            list of variables an their values\n",
    "            e.g. [('a', 0), ('e', 1)]\n",
    "        evidence: list\n",
    "            list of observed variables and their values\n",
    "            e.g. [('b', 0), ('c', 1)]\n",
    "        sampling_method:\n",
    "            \"Prior\", \"Rejection\", \"Likelihood Weighting\", \"Gibbs\"\n",
    "        num_iter:\n",
    "            number of the generated samples \n",
    "        num_burnin:\n",
    "            (used only in gibbs sampling) number of samples that we ignore at the start for gibbs method to converge\n",
    "            \n",
    "        Returns\n",
    "        -------\n",
    "        probability: float\n",
    "            approximate P(query|evidence) calculated by sampling\n",
    "        \"\"\"\n",
    "class Node:\n",
    "    \"\"\"\n",
    "    A conditional probability distribution for a boolean variable,\n",
    "    P(X | parents). Nodes of BayesNet\n",
    "    \"\"\"\n",
    "    def __init__(self, X, parents, cpt):\n",
    "        \"\"\"\n",
    "        X: variable name,\n",
    "        parents: a sequence of variable names or a space-separated string. Representing the names of parent nodes\n",
    "        cpt: the conditional probability table\n",
    "        Some examples are shown below:\n",
    "        A = Node('A', '', 0.8)\n",
    "        B = Node('B', 'A', {True: 0.3, False: 0.9}),\n",
    "        C = Node('C', 'A B', {(True, True): 0.05, (True, False): 0.5, (False, True): 0.15, (False, False): 0.7})\n",
    "        \"\"\"\n",
    "        parents = parents.split()\n",
    "        if isinstance(cpt, (float, int)):  # no parents, 0-tuple\n",
    "            cpt = {(): cpt}\n",
    "        elif isinstance(cpt, dict):\n",
    "            # one parent, 1-tuple\n",
    "            if cpt and isinstance(list(cpt.keys())[0], bool):\n",
    "                cpt = {(v,): p for v, p in cpt.items()}\n",
    "        self.variable = X\n",
    "        self.parents = parents\n",
    "        self.cpt = cpt\n",
    "        self.children = []\n",
    "\n",
    "    def prob(self, value, event):\n",
    "        \"\"\"\n",
    "        Return the conditional probability\n",
    "        P(X=value | parents=parent_values), where parent_values\n",
    "        are the values of parents in event. (event must assign each\n",
    "        parent a value.)\n",
    "        \"\"\"\n",
    "        p_event = None\n",
    "        if isinstance(event, tuple) and len(event) == len(self.parents): # one tuple\n",
    "            p_event = event\n",
    "        else: # dictionary\n",
    "            p_event = tuple([event[var] for var in self.parents])\n",
    "        p_true = self.cpt[p_event]\n",
    "        if value:\n",
    "            return p_true\n",
    "        else:\n",
    "            return 1 - p_true\n",
    "\n",
    "    def sample(self, event):\n",
    "        \"\"\"\n",
    "        Sample from the distribution for this variable conditioned\n",
    "        on event's values for parent_variables. That is, return True/False\n",
    "        at random according with the conditional probability given the\n",
    "        parents.\n",
    "        \"\"\"\n",
    "        var = self.prob(True, event) > random.uniform(0, 1)\n",
    "        return var"
   ]
  },
  {
   "cell_type": "code",
   "execution_count": 104,
   "metadata": {
    "collectable": true
   },
   "outputs": [
    {
     "name": "stdout",
     "output_type": "stream",
     "text": [
      "{(True,): 0.2, (False,): 0.25}\n"
     ]
    }
   ],
   "source": [
    "# extra space\n",
    "T, F = True, False\n",
    "\n",
    "test = BN([\n",
    "    ('A', '', 0.8),\n",
    "    ('B', '', 0.55),\n",
    "    ('E', 'B', {T: 0.3, F: 0.9}),\n",
    "    ('C', 'A E', {(T, T): 0.05, (T, F): 0.5, (F, T): 0.15, (F, F): 0.7}),\n",
    "    ('D', 'A C', {(T, T): 0.67, (T, F): 0.5, (F, T): 0.65, (F, F): 0.8}),\n",
    "    ('F', 'D', {T: 0.2, F: 0.25})\n",
    "])\n",
    "print(test.get_node('F').cpt)"
   ]
  },
  {
   "cell_type": "code",
   "execution_count": 109,
   "metadata": {
    "collectable": true
   },
   "outputs": [
    {
     "name": "stdout",
     "output_type": "stream",
     "text": [
      "Test PMF: 0.21649999999999997\n",
      "Test Sampling 'Gibbs Method': 0.68\n",
      "Test Enumeration: 0.57\n"
     ]
    }
   ],
   "source": [
    "print(\"Test PMF:\", test.enumeration_ask(('F',True), {'A': True, 'C': True}))\n",
    "print(\"Test Sampling 'Gibbs Method':\", test.sampling(('E', True),  {'A': False}, 'Gibbs', 100))\n",
    "print(\"Test Enumeration:\", test.enumeration_ask(('E', True),  {'A': False}))\n",
    "# extra space"
   ]
  },
  {
   "cell_type": "code",
   "execution_count": 106,
   "metadata": {
    "collectable": true
   },
   "outputs": [],
   "source": [
    "# extra space"
   ]
  },
  {
   "cell_type": "markdown",
   "metadata": {},
   "source": [
    "In this part you will compare sampling results with real probabilities for these settings:\n",
    "\n",
    "* query: $P(F=1|A=1,E=0)$ , $P(C=0|F=1,D=0)$\n",
    "* number of samples: 100, 500, 1000, 3000, 10000, 50000\n",
    "\n",
    "First find the probabilities with inference methods, then find the approximate probabilities for the queries with sampling methods with different number of samples. At the end, you will plot errors of diffrent methods by number of samples."
   ]
  },
  {
   "cell_type": "code",
   "execution_count": 151,
   "metadata": {
    "collectable": true
   },
   "outputs": [
    {
     "data": {
      "image/png": "[encoded data removed]",
      "text/plain": [
       "<Figure size 432x288 with 1 Axes>"
      ]
     },
     "metadata": {
      "needs_background": "light"
     },
     "output_type": "display_data"
    },
    {
     "name": "stdout",
     "output_type": "stream",
     "text": [
      "Prior : Red\n",
      "Rejection : Green\n",
      "Weighted likelihood : Blue\n",
      "Gibbs : Yellow\n"
     ]
    }
   ],
   "source": [
    "############################################################\n",
    "# x-axis: number of samples                                #\n",
    "# y-axis: error                                            #\n",
    "# Your plot have to contain errors for all diffrent        #\n",
    "# methods of sampling that you've implemented (3 Points)   #\n",
    "############################################################\n",
    "#Your code\n",
    "# plot for the first query\n",
    "x_axis = [100, 500, 1000, 3000, 10000, 50000]\n",
    "y_axis_prior = []\n",
    "y_axis_reject = []\n",
    "y_axis_likelihood_weighting = []\n",
    "y_axis_gibbs = []\n",
    "y_correct_1 = test.enumeration_ask(('F',True), {'A': True, 'E': False})\n",
    "y_correct_2 = test.enumeration_ask(('C',False), {'F': True, 'D': False})\n",
    "for i in x_axis:\n",
    "    y_estimated = test.sampling(('F',True), {'A': True, 'E': False}, 'Prior', i)\n",
    "    y_axis_prior.append(np.abs(y_correct_1 - y_estimated))\n",
    "for i in x_axis:\n",
    "    y_estimated = test.sampling(('F',True), {'A': True}, 'Rejection', i)\n",
    "    y_axis_reject.append(np.abs(y_correct_1 - y_estimated))\n",
    "for i in x_axis:\n",
    "    y_estimated = test.sampling(('F',True), {'A': True, 'E': False}, 'Likelihood Weighting', i)\n",
    "    y_axis_likelihood_weighting.append(np.abs(y_correct_1 - y_estimated))\n",
    "for i in x_axis:\n",
    "    y_estimated = test.sampling(('F',True), {'A': True, 'E': False}, 'Gibbs', i)\n",
    "    y_axis_gibbs.append(np.abs(y_correct_1 - y_estimated))\n",
    "fig = plt.figure()\n",
    "ax = fig.add_subplot(1, 1, 1)\n",
    "# plot the function\n",
    "plt.plot(x_axis, y_axis_prior, 'r')\n",
    "plt.plot(x_axis, y_axis_reject, 'g')\n",
    "plt.plot(x_axis, y_axis_likelihood_weighting, 'b')\n",
    "plt.plot(x_axis, y_axis_gibbs, 'y')\n",
    "plt.title(\"P(F=1|A=1,E=0)\")\n",
    "plt.xlabel(\"Number of Samples\")\n",
    "plt.ylabel(\"Error\")\n",
    "# show the plot\n",
    "plt.show()\n",
    "print('Prior : Red\\nRejection : Green\\nWeighted likelihood : Blue\\nGibbs : Yellow')"
   ]
  },
  {
   "cell_type": "code",
   "execution_count": 153,
   "metadata": {
    "collectable": true
   },
   "outputs": [
    {
     "data": {
      "image/png": "[encoded data removed]",
      "text/plain": [
       "<Figure size 432x288 with 1 Axes>"
      ]
     },
     "metadata": {
      "needs_background": "light"
     },
     "output_type": "display_data"
    },
    {
     "name": "stdout",
     "output_type": "stream",
     "text": [
      "Prior : Red\n",
      "Rejection : Green\n",
      "Weighted likelihood : Blue\n",
      "Gibbs : Yellow\n"
     ]
    }
   ],
   "source": [
    "# extra space\n",
    "# plot for the second query\n",
    "x_axis = [100, 500, 1000, 3000, 10000, 50000]\n",
    "y_axis_prior = []\n",
    "y_axis_reject = []\n",
    "y_axis_likelihood_weighting = []\n",
    "y_axis_gibbs = []\n",
    "for i in x_axis:\n",
    "    y_estimated = test.sampling(('C',False), {'F': True, 'D': False}, 'Prior', i)\n",
    "    y_axis_prior.append(np.abs(y_correct_2 - y_estimated))\n",
    "for i in x_axis:\n",
    "    y_estimated = test.sampling(('C',False), {'F': True, 'D': False}, 'Rejection', i)\n",
    "    y_axis_reject.append(np.abs(y_correct_2 - y_estimated))\n",
    "for i in x_axis:\n",
    "    y_estimated = test.sampling(('C',False), {'F': True, 'D': False}, 'Likelihood Weighting', i)\n",
    "    y_axis_likelihood_weighting.append(np.abs(y_correct_2 - y_estimated))\n",
    "for i in x_axis:\n",
    "    y_estimated = test.sampling(('C',False), {'F': True, 'D': False}, 'Gibbs', i)\n",
    "    y_axis_gibbs.append(np.abs(y_correct_2 - y_estimated))\n",
    "fig = plt.figure()\n",
    "ax = fig.add_subplot(1, 1, 1)\n",
    "# plot the function\n",
    "plt.plot(x_axis, y_axis_prior, 'r')\n",
    "plt.plot(x_axis, y_axis_reject, 'g')\n",
    "plt.plot(x_axis, y_axis_likelihood_weighting, 'b')\n",
    "plt.plot(x_axis, y_axis_gibbs, 'y')\n",
    "plt.title(\"P(C=0|F=1,D=0)\")\n",
    "plt.xlabel(\"Number of Samples\")\n",
    "plt.ylabel(\"Error\")\n",
    "# show the plot\n",
    "plt.show()\n",
    "print('Prior : Red\\nRejection : Green\\nWeighted likelihood : Blue\\nGibbs : Yellow')"
   ]
  },
  {
   "cell_type": "code",
   "execution_count": 10,
   "metadata": {
    "collectable": true
   },
   "outputs": [],
   "source": [
    "# extra space"
   ]
  },
  {
   "cell_type": "markdown",
   "metadata": {},
   "source": [
    "For Gibbs sampling, try diffrent burnin values and report the accuracy (or error)."
   ]
  },
  {
   "cell_type": "code",
   "execution_count": 155,
   "metadata": {
    "collectable": true,
    "scrolled": false
   },
   "outputs": [
    {
     "data": {
      "image/png": "[encoded data removed]",
      "text/plain": [
       "<Figure size 432x288 with 1 Axes>"
      ]
     },
     "metadata": {
      "needs_background": "light"
     },
     "output_type": "display_data"
    },
    {
     "name": "stdout",
     "output_type": "stream",
     "text": [
      "First Query : Red\n",
      "Second Query : Blue\n"
     ]
    }
   ],
   "source": [
    "############################################################\n",
    "# (2 Points)                                         #\n",
    "############################################################\n",
    "\n",
    "#Your code\n",
    "x_axis = [500, 1000, 3000, 10000, 5000]\n",
    "y_axis_gibbs_1 = []\n",
    "y_axis_gibbs_2 = []\n",
    "y_correct_1 = test.enumeration_ask(('F',True), {'A': True, 'E': False})\n",
    "y_correct_2 = test.enumeration_ask(('C',False), {'F': True, 'D': False})\n",
    "\n",
    "for i in x_axis:\n",
    "    y_estimated_1 = test.sampling(('F',True), {'A': True, 'E': False}, 'Gibbs', 1000, i)\n",
    "    y_axis_gibbs_1.append(np.abs(y_correct_1 - y_estimated_1))\n",
    "    y_estimated_2 = test.sampling(('C',False),  {'F': True, 'D': False}, 'Gibbs', 1000, i)\n",
    "    y_axis_gibbs_2.append(np.abs(y_correct_2 - y_estimated_2))\n",
    "fig = plt.figure()\n",
    "ax = fig.add_subplot(1, 1, 1)\n",
    "# plot the function\n",
    "plt.plot(x_axis, y_axis_gibbs_1, 'bo')\n",
    "plt.plot(x_axis, y_axis_gibbs_2, 'ro')\n",
    "plt.xlabel(\"Num Burnin\")\n",
    "plt.ylabel(\"Error\")\n",
    "# show the plot\n",
    "plt.show()\n",
    "print('First Query : Red\\nSecond Query : Blue')"
   ]
  },
  {
   "cell_type": "code",
   "execution_count": null,
   "metadata": {
    "collectable": true
   },
   "outputs": [],
   "source": [
    "# extra space"
   ]
  },
  {
   "cell_type": "code",
   "execution_count": null,
   "metadata": {
    "collectable": true
   },
   "outputs": [],
   "source": [
    "# extra space"
   ]
  },
  {
   "cell_type": "markdown",
   "metadata": {},
   "source": [
    "# Q3 (20+ 5 Points)"
   ]
  },
  {
   "cell_type": "markdown",
   "metadata": {},
   "source": [
    "<font size=4>\n",
    "Author: Kian Bakhtari\n",
    "\t\t\t<br/>\n",
    "                <font color=red>\n",
    "Please run all the cells.\n",
    "     </font>\n",
    "</font>\n",
    "                <br/>\n",
    "    </div>"
   ]
  },
  {
   "cell_type": "markdown",
   "metadata": {},
   "source": [
    "## The Puerto Princesa ship"
   ]
  },
  {
   "cell_type": "markdown",
   "metadata": {},
   "source": [
    "At midnight on a fall day in the Philippines, a ship leaves Puerto Princesa City's seaport to Macao, China. After one or two hours, the boat loses its GPS connection because of a technical issue. Captain keeps navigating the ship to its destination, using the stars and four old radio towers, which you can see on the map. Each antenna could measure the ship's coordinates (X, Y) and send them to its receiver. There are five records of towers signals at five different times, available for you in the records.json file. Also, the boat's actual coordinates are available in the real_coordinates.json file. The exact coordinates are ONLY FOR EVALUATION PURPOSES, and you CAN NOT use them as input data. The five dots on the map below are actual coordinates of the ship, at each time step where the records from antennas were received. Also, the map is decorative and is not part of the data."
   ]
  },
  {
   "cell_type": "markdown",
   "metadata": {},
   "source": [
    "![Figure3-1](./Images/map.png)"
   ]
  },
  {
   "cell_type": "markdown",
   "metadata": {},
   "source": [
    "Each tower has a noise that is coming from a gaussian distribution, meaning that every (X, Y) pair that is received from an antenna is actually derived from:\n",
    "\n",
    "X = sample_from_normal_distribution(mean = X_real, std = antenna's std)\n",
    "Y = sample_from_normal_distribution(mean = Y_real, std = antenna's std)\n",
    "\n",
    "Information of radio towers (coordinate and noise standard deviation) is available in the towers_info.json file.\n",
    "\n",
    "The ship's movement between those five different time steps could be mathematically modeled as follows:\n",
    "At each time step, the ship moves D units to the north and F units to either east or west (half of the times west, and half of the times east). D and F are both samples from exponential distributions with a scale of Y_STEP and X_STEP, respectively. Those parameters are available in the moving_model.json file."
   ]
  },
  {
   "cell_type": "markdown",
   "metadata": {},
   "source": [
    "### Hidden Markov Model"
   ]
  },
  {
   "cell_type": "markdown",
   "metadata": {},
   "source": [
    "At this point, you can build a simple HMM and estimate the ship's coordinates using the conditional probabilities that you have. For each time step, calculate the ship's coordinates at that time step and previous time steps, using the tower records received up to that time. In simpler words, calculate:<br>\n",
    "\n",
    "P(coor_0 | records_0)<br>\n",
    "P(coor_1 | records_0, records_1)<br>\n",
    "...<br>\n",
    "P(coor_4 | records_0, records_1, records_2, records_3, records_4)<br>\n"
   ]
  },
  {
   "cell_type": "markdown",
   "metadata": {},
   "source": [
    "The actual coordinates of the ship in the first time step (coor_0) is coming from a 2-dimensional guassian distribution with the mean of Puerto Princesa city's coordinates and covarianve matrix of INIT_COV (scalar) times the identity matrix. INIT_COV and coordinates of Puerto Princesa city is availabel in moving_model.json file."
   ]
  },
  {
   "cell_type": "markdown",
   "metadata": {},
   "source": [
    "## Libraries"
   ]
  },
  {
   "cell_type": "code",
   "execution_count": 25,
   "metadata": {},
   "outputs": [],
   "source": [
    "import numpy as np\n",
    "import pandas as pd\n",
    "from matplotlib import pyplot as plt\n",
    "import json\n",
    "\n",
    "from scipy.stats import norm, expon\n",
    "import scipy\n",
    "import pandas as pd"
   ]
  },
  {
   "cell_type": "markdown",
   "metadata": {},
   "source": [
    "## Data"
   ]
  },
  {
   "cell_type": "code",
   "execution_count": 26,
   "metadata": {},
   "outputs": [
    {
     "data": {
      "text/html": [
       "<div>\n",
       "<style scoped>\n",
       "    .dataframe tbody tr th:only-of-type {\n",
       "        vertical-align: middle;\n",
       "    }\n",
       "\n",
       "    .dataframe tbody tr th {\n",
       "        vertical-align: top;\n",
       "    }\n",
       "\n",
       "    .dataframe thead th {\n",
       "        text-align: right;\n",
       "    }\n",
       "</style>\n",
       "<table border=\"1\" class=\"dataframe\">\n",
       "  <thead>\n",
       "    <tr style=\"text-align: right;\">\n",
       "      <th></th>\n",
       "      <th>X</th>\n",
       "      <th>Y</th>\n",
       "    </tr>\n",
       "  </thead>\n",
       "  <tbody>\n",
       "    <tr>\n",
       "      <th>0</th>\n",
       "      <td>1087.233417</td>\n",
       "      <td>-57.165368</td>\n",
       "    </tr>\n",
       "    <tr>\n",
       "      <th>1</th>\n",
       "      <td>1044.936241</td>\n",
       "      <td>72.343990</td>\n",
       "    </tr>\n",
       "    <tr>\n",
       "      <th>2</th>\n",
       "      <td>967.051182</td>\n",
       "      <td>392.826826</td>\n",
       "    </tr>\n",
       "    <tr>\n",
       "      <th>3</th>\n",
       "      <td>314.440277</td>\n",
       "      <td>1219.678719</td>\n",
       "    </tr>\n",
       "    <tr>\n",
       "      <th>4</th>\n",
       "      <td>590.424895</td>\n",
       "      <td>1413.279887</td>\n",
       "    </tr>\n",
       "  </tbody>\n",
       "</table>\n",
       "</div>"
      ],
      "text/plain": [
       "             X            Y\n",
       "0  1087.233417   -57.165368\n",
       "1  1044.936241    72.343990\n",
       "2   967.051182   392.826826\n",
       "3   314.440277  1219.678719\n",
       "4   590.424895  1413.279887"
      ]
     },
     "execution_count": 26,
     "metadata": {},
     "output_type": "execute_result"
    }
   ],
   "source": [
    "real_coordinates = json.load(open('./inputs/real_coordinates.json'))\n",
    "pd.DataFrame(real_coordinates)"
   ]
  },
  {
   "cell_type": "code",
   "execution_count": 27,
   "metadata": {},
   "outputs": [
    {
     "data": {
      "text/html": [
       "<div>\n",
       "<style scoped>\n",
       "    .dataframe tbody tr th:only-of-type {\n",
       "        vertical-align: middle;\n",
       "    }\n",
       "\n",
       "    .dataframe tbody tr th {\n",
       "        vertical-align: top;\n",
       "    }\n",
       "\n",
       "    .dataframe thead th {\n",
       "        text-align: right;\n",
       "    }\n",
       "</style>\n",
       "<table border=\"1\" class=\"dataframe\">\n",
       "  <thead>\n",
       "    <tr style=\"text-align: right;\">\n",
       "      <th></th>\n",
       "      <th>1</th>\n",
       "      <th>2</th>\n",
       "      <th>3</th>\n",
       "      <th>4</th>\n",
       "    </tr>\n",
       "  </thead>\n",
       "  <tbody>\n",
       "    <tr>\n",
       "      <th>x</th>\n",
       "      <td>1405</td>\n",
       "      <td>10</td>\n",
       "      <td>210</td>\n",
       "      <td>630</td>\n",
       "    </tr>\n",
       "    <tr>\n",
       "      <th>y</th>\n",
       "      <td>600</td>\n",
       "      <td>880</td>\n",
       "      <td>1890</td>\n",
       "      <td>2090</td>\n",
       "    </tr>\n",
       "    <tr>\n",
       "      <th>std</th>\n",
       "      <td>60</td>\n",
       "      <td>110</td>\n",
       "      <td>90</td>\n",
       "      <td>80</td>\n",
       "    </tr>\n",
       "  </tbody>\n",
       "</table>\n",
       "</div>"
      ],
      "text/plain": [
       "        1    2     3     4\n",
       "x    1405   10   210   630\n",
       "y     600  880  1890  2090\n",
       "std    60  110    90    80"
      ]
     },
     "execution_count": 27,
     "metadata": {},
     "output_type": "execute_result"
    }
   ],
   "source": [
    "towers_info = json.load(open('./inputs/towers_info.json'))\n",
    "pd.DataFrame(towers_info)"
   ]
  },
  {
   "cell_type": "code",
   "execution_count": 28,
   "metadata": {},
   "outputs": [
    {
     "data": {
      "text/plain": [
       "{'X_STEP': 300,\n",
       " 'Y_STEP': 600,\n",
       " 'INIT_COV': 200,\n",
       " 'Peurto_coordinates': [1105, -50]}"
      ]
     },
     "execution_count": 28,
     "metadata": {},
     "output_type": "execute_result"
    }
   ],
   "source": [
    "moving_model = json.load(open('./inputs/moving_model.json'))\n",
    "moving_model"
   ]
  },
  {
   "cell_type": "code",
   "execution_count": 29,
   "metadata": {},
   "outputs": [
    {
     "data": {
      "text/html": [
       "<div>\n",
       "<style scoped>\n",
       "    .dataframe tbody tr th:only-of-type {\n",
       "        vertical-align: middle;\n",
       "    }\n",
       "\n",
       "    .dataframe tbody tr th {\n",
       "        vertical-align: top;\n",
       "    }\n",
       "\n",
       "    .dataframe thead th {\n",
       "        text-align: right;\n",
       "    }\n",
       "</style>\n",
       "<table border=\"1\" class=\"dataframe\">\n",
       "  <thead>\n",
       "    <tr style=\"text-align: right;\">\n",
       "      <th></th>\n",
       "      <th>Tower1</th>\n",
       "      <th>Tower2</th>\n",
       "      <th>Tower3</th>\n",
       "      <th>Tower4</th>\n",
       "    </tr>\n",
       "  </thead>\n",
       "  <tbody>\n",
       "    <tr>\n",
       "      <th>0</th>\n",
       "      <td>[994, -36]</td>\n",
       "      <td>[873, -28]</td>\n",
       "      <td>[958, 70]</td>\n",
       "      <td>[1077, -128]</td>\n",
       "    </tr>\n",
       "    <tr>\n",
       "      <th>1</th>\n",
       "      <td>[1053, 63]</td>\n",
       "      <td>[926, 26]</td>\n",
       "      <td>[961, 110]</td>\n",
       "      <td>[905, 82]</td>\n",
       "    </tr>\n",
       "    <tr>\n",
       "      <th>2</th>\n",
       "      <td>[956, 389]</td>\n",
       "      <td>[1106, 499]</td>\n",
       "      <td>[1005, 397]</td>\n",
       "      <td>[901, 326]</td>\n",
       "    </tr>\n",
       "    <tr>\n",
       "      <th>3</th>\n",
       "      <td>[331, 1227]</td>\n",
       "      <td>[377, 1232]</td>\n",
       "      <td>[270, 1282]</td>\n",
       "      <td>[232, 1051]</td>\n",
       "    </tr>\n",
       "    <tr>\n",
       "      <th>4</th>\n",
       "      <td>[520, 1376]</td>\n",
       "      <td>[577, 1446]</td>\n",
       "      <td>[397, 1456]</td>\n",
       "      <td>[648, 1364]</td>\n",
       "    </tr>\n",
       "  </tbody>\n",
       "</table>\n",
       "</div>"
      ],
      "text/plain": [
       "        Tower1       Tower2       Tower3        Tower4\n",
       "0   [994, -36]   [873, -28]    [958, 70]  [1077, -128]\n",
       "1   [1053, 63]    [926, 26]   [961, 110]     [905, 82]\n",
       "2   [956, 389]  [1106, 499]  [1005, 397]    [901, 326]\n",
       "3  [331, 1227]  [377, 1232]  [270, 1282]   [232, 1051]\n",
       "4  [520, 1376]  [577, 1446]  [397, 1456]   [648, 1364]"
      ]
     },
     "execution_count": 29,
     "metadata": {},
     "output_type": "execute_result"
    }
   ],
   "source": [
    "records = json.load(open('./inputs/records.json'))\n",
    "pd.DataFrame(records)"
   ]
  },
  {
   "cell_type": "markdown",
   "metadata": {},
   "source": [
    "## Functions"
   ]
  },
  {
   "cell_type": "code",
   "execution_count": 30,
   "metadata": {},
   "outputs": [],
   "source": [
    "tower_records = [(records.get('Tower1')[i],\n",
    "                  records.get('Tower2')[i], \n",
    "                  records.get('Tower3')[i], \n",
    "                  records.get('Tower4')[i]) for i in range(5)]"
   ]
  },
  {
   "cell_type": "code",
   "execution_count": 31,
   "metadata": {},
   "outputs": [
    {
     "data": {
      "text/plain": [
       "[([994, -36], [873, -28], [958, 70], [1077, -128]),\n",
       " ([1053, 63], [926, 26], [961, 110], [905, 82]),\n",
       " ([956, 389], [1106, 499], [1005, 397], [901, 326]),\n",
       " ([331, 1227], [377, 1232], [270, 1282], [232, 1051]),\n",
       " ([520, 1376], [577, 1446], [397, 1456], [648, 1364])]"
      ]
     },
     "execution_count": 31,
     "metadata": {},
     "output_type": "execute_result"
    }
   ],
   "source": [
    "tower_records"
   ]
  },
  {
   "cell_type": "code",
   "execution_count": null,
   "metadata": {
    "collectable": true
   },
   "outputs": [],
   "source": [
    "# extra space"
   ]
  },
  {
   "cell_type": "code",
   "execution_count": null,
   "metadata": {
    "collectable": true
   },
   "outputs": [],
   "source": [
    "# extra space"
   ]
  },
  {
   "cell_type": "code",
   "execution_count": null,
   "metadata": {
    "collectable": true
   },
   "outputs": [],
   "source": [
    "def get_mean_towers_coor(time_step: int, tower_records: list):\n",
    "    # The average of all four towers measurements at a given time step\n",
    "    x = np.average([tower_coor[0] for tower_coor in tower_records[time_step]])\n",
    "    y = np.average([tower_coor[1] for tower_coor in tower_records[time_step]])\n",
    "    return x, y\n",
    "\n",
    "\n",
    "def P_coor0(coor0):\n",
    "    # Distribuiton of initial coordinates (time step 0)\n",
    "    x0, y0 = coor0\n",
    "    return scipy.stats.multivariate_normal.pdf([x0, y0], \n",
    "                            mean=moving_model.get('Peurto_coordinates'), cov=moving_model.get('INIT_COV'))\n",
    "\n",
    "\n",
    "# filling these three functions with apropriate codes: (2 points)\n",
    "\n",
    "def P_coor_given_prevCoor(coor, prev_coor):\n",
    "    # Probability of coordinates at time step i, given the coordinates of time step i-1\n",
    "    ############################################################\n",
    "    #                                                          #\n",
    "    #                    Your code here                        #\n",
    "    #                                                          #\n",
    "    #                                                          #\n",
    "    ############################################################\n",
    "    pass\n",
    "\n",
    "    \n",
    "def P_towerCoor_given_coor(tower_coor, tower_std, coor):\n",
    "    # Probability of a tower measurement, given the coordinates of the ship\n",
    "    ############################################################\n",
    "    #                                                          #\n",
    "    #                    Your code here                        #\n",
    "    #                                                          #\n",
    "    #                                                          #\n",
    "    ############################################################\n",
    "    pass\n",
    "    \n",
    "    \n",
    "def P_record_given_coor(rec, coor, towers_info):\n",
    "    # All four measurements of all four towers at time step i, is called the record of thime step i.\n",
    "    # This function returns the probability of a record given the ship's coordinates.\n",
    "    ############################################################\n",
    "    #                                                          #\n",
    "    #                    Your code here                        #\n",
    "    #                                                          #\n",
    "    #                                                          #\n",
    "    ############################################################\n",
    "    pass\n"
   ]
  },
  {
   "cell_type": "code",
   "execution_count": null,
   "metadata": {
    "collectable": true
   },
   "outputs": [],
   "source": [
    "# extra space"
   ]
  },
  {
   "cell_type": "code",
   "execution_count": null,
   "metadata": {
    "collectable": true
   },
   "outputs": [],
   "source": [
    "# extra space"
   ]
  },
  {
   "cell_type": "code",
   "execution_count": null,
   "metadata": {},
   "outputs": [],
   "source": [
    "def real_coor(time_step):\n",
    "    return round(real_coordinates.get('X')[time_step]), round(real_coordinates.get('Y')[time_step])\n",
    "\n",
    "def dist(coor_a, coor_b):\n",
    "    return round(np.sqrt((coor_a[0] - coor_b[0])**2 + (coor_a[1] - coor_b[1])**2))\n",
    "\n",
    "coor0_estimations = []\n",
    "coor1_estimations = []\n",
    "coor2_estimations = []\n",
    "coor3_estimations = []"
   ]
  },
  {
   "cell_type": "markdown",
   "metadata": {},
   "source": [
    "#### Estimating coordinates_0 from P(coor_0) and record_0"
   ]
  },
  {
   "cell_type": "markdown",
   "metadata": {},
   "source": [
    "In the cell below, you can see the approach for finding the argmax of P(coor_0 | record_0), which is equal to argmax of P(record_0 | coor_0) times P(coor_0).\n",
    "We are not using derivatives to find the argmax, we are actually doing it numerically by trying different coordinates and seeing which one provides the highest probability. <br>\n",
    "\n",
    "#### Recommended approach: You can use gradient descent to find the argmax of probability function, and that will give you 5 extra points."
   ]
  },
  {
   "cell_type": "code",
   "execution_count": null,
   "metadata": {},
   "outputs": [],
   "source": [
    "# argmax P(coor_0 | record_0) = argmax P(record_0 | coor_0) P(coor_0)\n",
    "\n",
    "best_x0, best_y0 = None, None\n",
    "\n",
    "max_Px, max_Py = 0, 0\n",
    "interval, step = 30, 5\n",
    "# Larger interval and smaller step will lead to a more accurate result, but will increase computational \n",
    "# complexity deramaticly. Feel free to use other approaches like running this cell more than once and tighten\n",
    "# the searching interval with smaller steps. \n",
    "# Recommended approach: You can use gradient descent to find the argmax of probability\n",
    "# function, and that will give you 5 extra points.\n",
    "\n",
    "towers_mean_x0, towers_mean_y0 = get_mean_towers_coor(0, tower_records)\n",
    "\n",
    "for x0 in range(int(towers_mean_x0 - interval), int(towers_mean_x0 + interval), step):\n",
    "    for y0 in range(int(towers_mean_y0 - interval), int(towers_mean_y0 + interval), step):\n",
    "        \n",
    "        coor0 = (x0, y0)\n",
    "        rec0 = tower_records[0]\n",
    "\n",
    "        P_rec0_given_x0, P_rec0_given_y0 = P_record_given_coor(rec0, coor0, towers_info)\n",
    "        p_c0 = P_coor0(coor0)\n",
    "    \n",
    "        Px = P_rec0_given_x0 * p_c0\n",
    "        Py = P_rec0_given_y0 * p_c0\n",
    "\n",
    "        if Px > max_Px:\n",
    "            best_x0 = x0\n",
    "            max_Px = Px\n",
    "\n",
    "        if Py > max_Py:\n",
    "            best_y0 = y0\n",
    "            max_Py = Py\n",
    "\n",
    "\n",
    "coor0_estimations.append((best_x0, best_y0))"
   ]
  },
  {
   "cell_type": "code",
   "execution_count": null,
   "metadata": {},
   "outputs": [],
   "source": [
    "print(f'real_coor0: {real_coor(0)} - Estimated_coor0: {best_x0, best_y0}')\n",
    "print(f'Estimation_error: {dist((best_x0, best_y0), real_coor(0))}')"
   ]
  },
  {
   "cell_type": "markdown",
   "metadata": {},
   "source": [
    "#### Estimating coordinates_0 and coordinates_1 from P(coor_0), record_0, and record_1<br>(4 points)"
   ]
  },
  {
   "cell_type": "code",
   "execution_count": null,
   "metadata": {
    "collectable": true
   },
   "outputs": [],
   "source": [
    "# extra space"
   ]
  },
  {
   "cell_type": "code",
   "execution_count": null,
   "metadata": {
    "collectable": true
   },
   "outputs": [],
   "source": [
    "# extra space"
   ]
  },
  {
   "cell_type": "code",
   "execution_count": null,
   "metadata": {
    "collectable": true
   },
   "outputs": [],
   "source": [
    "# argmax P(coor_0 | record_0, record_1)\n",
    "# argmax P(coor_1 | coor_0, record_0, record_1)\n",
    "\n",
    "\n",
    "max_Px, max_Py = 0, 0\n",
    "interval, step = 20, 5\n",
    "\n",
    "best_x0, best_y0 = None, None\n",
    "best_x1, best_y1 = None, None\n",
    "\n",
    "towers_mean_x1, towers_mean_y1 = get_mean_towers_coor(1, tower_records)\n",
    "\n",
    "for x0 in range(int(coor0_estimations[-1][0] - interval), int(coor0_estimations[-1][0] + interval), step):\n",
    "    for y0 in range(int(coor0_estimations[-1][1] - interval), int(coor0_estimations[-1][1] + interval), step):\n",
    "        \n",
    "         for x1 in range(int(towers_mean_x1 - interval), int(towers_mean_x1 + interval), step):\n",
    "            for y1 in range(int(towers_mean_y1 - interval), int(towers_mean_y1 + interval), step):\n",
    "                    \n",
    "                coor0 = (x0, y0)\n",
    "                coor1 = (x1, y1)\n",
    "\n",
    "                rec0 = tower_records[0]\n",
    "                rec1 = tower_records[1]\n",
    "\n",
    "        # Similiar to the cell above, calculate the best estimation\n",
    "        # of coordinates_0 and coordinates_1\n",
    "        ############################################################\n",
    "        #                                                          #\n",
    "        #                    Your code here                        #\n",
    "        #                                                          #\n",
    "        #                                                          #\n",
    "        ############################################################\n",
    "                    \n",
    "            \n",
    "coor0_estimations.append((best_x0, best_y0))\n",
    "coor1_estimations.append((best_x1, best_y1))"
   ]
  },
  {
   "cell_type": "code",
   "execution_count": null,
   "metadata": {
    "collectable": true
   },
   "outputs": [],
   "source": [
    "# extra space"
   ]
  },
  {
   "cell_type": "code",
   "execution_count": null,
   "metadata": {
    "collectable": true
   },
   "outputs": [],
   "source": [
    "# extra space"
   ]
  },
  {
   "cell_type": "code",
   "execution_count": null,
   "metadata": {},
   "outputs": [],
   "source": [
    "print(f'real_coor0: {real_coor(0)} - Estimated_coor0: {best_x0, best_y0}')\n",
    "print(f'Estimation_error: {dist((best_x0, best_y0), real_coor(0))}')\n",
    "print()\n",
    "print(f'real_coor1: {real_coor(1)} - Estimated_coor1: {best_x1, best_y1}')\n",
    "print(f'Estimation_error: {dist((best_x1, best_y1), real_coor(1))}')"
   ]
  },
  {
   "cell_type": "markdown",
   "metadata": {},
   "source": [
    "#### Estimating coordinates_0, coordinates_1 and coordinates_2 from P(coor_0), record_0, record_1, and record_2 <br> (4 points)"
   ]
  },
  {
   "cell_type": "code",
   "execution_count": null,
   "metadata": {
    "collectable": true
   },
   "outputs": [],
   "source": [
    "############################################################\n",
    "#                                                          #\n",
    "#                    Your code here                        #\n",
    "#                                                          #\n",
    "#                                                          #\n",
    "############################################################\n",
    "                    "
   ]
  },
  {
   "cell_type": "code",
   "execution_count": null,
   "metadata": {
    "collectable": true
   },
   "outputs": [],
   "source": [
    "# extra space"
   ]
  },
  {
   "cell_type": "code",
   "execution_count": null,
   "metadata": {
    "collectable": true
   },
   "outputs": [],
   "source": [
    "# extra space"
   ]
  },
  {
   "cell_type": "markdown",
   "metadata": {},
   "source": [
    "#### Estimating coordinates_0, coordinates_1, coordinates_2, and coordinates_3 from  P(coor_0), record_0, record_1, record_2, and record_3 <br> (4 points)"
   ]
  },
  {
   "cell_type": "code",
   "execution_count": null,
   "metadata": {
    "collectable": true
   },
   "outputs": [],
   "source": [
    "############################################################\n",
    "#                                                          #\n",
    "#                    Your code here                        #\n",
    "#                                                          #\n",
    "#                                                          #\n",
    "############################################################\n",
    "                    "
   ]
  },
  {
   "cell_type": "code",
   "execution_count": null,
   "metadata": {
    "collectable": true
   },
   "outputs": [],
   "source": [
    "# extra space"
   ]
  },
  {
   "cell_type": "code",
   "execution_count": null,
   "metadata": {
    "collectable": true
   },
   "outputs": [],
   "source": [
    "# extra space"
   ]
  },
  {
   "cell_type": "markdown",
   "metadata": {},
   "source": [
    "As you know from the theoretical aspect, and you can see from your results, the errors of estimations decrease when you use more records and conditional probabilities."
   ]
  },
  {
   "cell_type": "markdown",
   "metadata": {},
   "source": [
    "#### Plot curves that show using more records, leads to decrease of estimation error.<br>( 6 points)\n"
   ]
  },
  {
   "cell_type": "code",
   "execution_count": null,
   "metadata": {
    "collectable": true
   },
   "outputs": [],
   "source": [
    "############################################################\n",
    "#                                                          #\n",
    "#                    Your code here                        #\n",
    "#                                                          #\n",
    "#                                                          #\n",
    "############################################################"
   ]
  },
  {
   "cell_type": "code",
   "execution_count": null,
   "metadata": {
    "collectable": true
   },
   "outputs": [],
   "source": [
    "# extra space"
   ]
  },
  {
   "cell_type": "code",
   "execution_count": null,
   "metadata": {
    "collectable": true
   },
   "outputs": [],
   "source": [
    "# extra space"
   ]
  }
 ],
 "metadata": {
  "interpreter": {
   "hash": "f336af7d54ba0f0c1daaf2256eb85f31e983e88153daf7a27ef3ea6c724faba4"
  },
  "kernelspec": {
   "display_name": "Python 3",
   "language": "python",
   "name": "python3"
  },
  "language_info": {
   "codemirror_mode": {
    "name": "ipython",
    "version": 3
   },
   "file_extension": ".py",
   "mimetype": "text/x-python",
   "name": "python",
   "nbconvert_exporter": "python",
   "pygments_lexer": "ipython3",
   "version": "3.8.8"
  }
 },
 "nbformat": 4,
 "nbformat_minor": 4
}
